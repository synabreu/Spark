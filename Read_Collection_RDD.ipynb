{
 "cells": [
  {
   "cell_type": "markdown",
   "id": "28a4c1e0-dccc-4cfd-90c1-70b43db5d37d",
   "metadata": {},
   "source": [
    "# Create RDD using a parallized collection"
   ]
  },
  {
   "cell_type": "code",
   "execution_count": 1,
   "id": "45face5a-7bfa-4f52-8016-078170d5d5ad",
   "metadata": {},
   "outputs": [
    {
     "data": {
      "text/html": [
       "\n",
       "        <div>\n",
       "            <p><b>SparkContext</b></p>\n",
       "\n",
       "            <p><a href=\"http://192.168.200.147:4040\">Spark UI</a></p>\n",
       "\n",
       "            <dl>\n",
       "              <dt>Version</dt>\n",
       "                <dd><code>v2.4.0</code></dd>\n",
       "              <dt>Master</dt>\n",
       "                <dd><code>local[*]</code></dd>\n",
       "              <dt>AppName</dt>\n",
       "                <dd><code>Read the Values of Collection using RDD</code></dd>\n",
       "            </dl>\n",
       "        </div>\n",
       "        "
      ],
      "text/plain": [
       "<SparkContext master=local[*] appName=Read the Values of Collection using RDD>"
      ]
     },
     "execution_count": 1,
     "metadata": {},
     "output_type": "execute_result"
    }
   ],
   "source": [
    "# Using PySpark and SparkContext\n",
    "\n",
    "from pyspark import SparkConf, SparkContext\n",
    "conf = SparkConf().setAppName(\"Read the Values of Collection using RDD\")\n",
    "sc = SparkContext.getOrCreate(conf = conf)\n",
    "sc"
   ]
  },
  {
   "cell_type": "code",
   "execution_count": 2,
   "id": "46bf5bdd-bc7c-4b5f-b08b-f9fd0dfa5efc",
   "metadata": {},
   "outputs": [],
   "source": [
    "# Create RDD using a parallized collection by allowing Spark to distribute the data \n",
    "# across multiple nodes, instead of depending on a single node to process the data. \n",
    "\n",
    "myRDD = sc.parallelize([('Mike', 19), ('June', 18), ('Rachel', 16), ('Rob', 16), ('Scallet', 21)])"
   ]
  },
  {
   "cell_type": "code",
   "execution_count": 3,
   "id": "0948211d-e6ff-42ea-a7e3-09831d133949",
   "metadata": {},
   "outputs": [
    {
     "data": {
      "text/plain": [
       "[('Mike', 19), ('June', 18), ('Rachel', 16), ('Rob', 16), ('Scallet', 21)]"
      ]
     },
     "execution_count": 3,
     "metadata": {},
     "output_type": "execute_result"
    }
   ],
   "source": [
    "# View collection inside RDD and return the values to the console or notebook cell.\n",
    "# For small amounts of data, always use take(n) method. \n",
    "\n",
    "myRDD.take(5)"
   ]
  },
  {
   "cell_type": "code",
   "execution_count": null,
   "id": "543c77ac-e759-4700-ba67-c38b972490a8",
   "metadata": {},
   "outputs": [],
   "source": []
  }
 ],
 "metadata": {
  "kernelspec": {
   "display_name": "Python 3",
   "language": "python",
   "name": "python3"
  },
  "language_info": {
   "codemirror_mode": {
    "name": "ipython",
    "version": 3
   },
   "file_extension": ".py",
   "mimetype": "text/x-python",
   "name": "python",
   "nbconvert_exporter": "python",
   "pygments_lexer": "ipython3",
   "version": "3.7.11"
  }
 },
 "nbformat": 4,
 "nbformat_minor": 5
}
